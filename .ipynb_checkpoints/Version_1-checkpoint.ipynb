{
 "cells": [
  {
   "cell_type": "markdown",
   "id": "5ac165f4-7b67-43d8-9ca5-2fbb39fcd99b",
   "metadata": {},
   "source": [
    "### Importing required libraries."
   ]
  },
  {
   "cell_type": "markdown",
   "id": "3aca0a93-13c5-4e10-9e1a-09db5809dc5a",
   "metadata": {},
   "source": [
    "The data is collected from yahoo finance on a daily basis which can be altered depending on the requirement . "
   ]
  },
  {
   "cell_type": "code",
   "execution_count": 33,
   "id": "a961298d-7f6f-478e-9f9d-f9d2b863ed01",
   "metadata": {},
   "outputs": [
    {
     "name": "stdout",
     "output_type": "stream",
     "text": [
      "Collecting scikeras\n",
      "  Downloading scikeras-0.9.0-py3-none-any.whl (27 kB)\n",
      "Requirement already satisfied: importlib-metadata>=3 in /Users/akhilsai/opt/anaconda3/envs/dev/lib/python3.7/site-packages (from scikeras) (4.11.3)\n",
      "Requirement already satisfied: packaging>=0.21 in /Users/akhilsai/opt/anaconda3/envs/dev/lib/python3.7/site-packages (from scikeras) (21.3)\n",
      "Requirement already satisfied: scikit-learn>=1.0.0 in /Users/akhilsai/opt/anaconda3/envs/dev/lib/python3.7/site-packages (from scikeras) (1.0.2)\n",
      "Requirement already satisfied: typing-extensions>=3.6.4 in /Users/akhilsai/opt/anaconda3/envs/dev/lib/python3.7/site-packages (from importlib-metadata>=3->scikeras) (4.3.0)\n",
      "Requirement already satisfied: zipp>=0.5 in /Users/akhilsai/opt/anaconda3/envs/dev/lib/python3.7/site-packages (from importlib-metadata>=3->scikeras) (3.8.0)\n",
      "Requirement already satisfied: pyparsing!=3.0.5,>=2.0.2 in /Users/akhilsai/opt/anaconda3/envs/dev/lib/python3.7/site-packages (from packaging>=0.21->scikeras) (3.0.9)\n",
      "Requirement already satisfied: joblib>=0.11 in /Users/akhilsai/opt/anaconda3/envs/dev/lib/python3.7/site-packages (from scikit-learn>=1.0.0->scikeras) (1.1.0)\n",
      "Requirement already satisfied: scipy>=1.1.0 in /Users/akhilsai/opt/anaconda3/envs/dev/lib/python3.7/site-packages (from scikit-learn>=1.0.0->scikeras) (1.7.3)\n",
      "Requirement already satisfied: threadpoolctl>=2.0.0 in /Users/akhilsai/opt/anaconda3/envs/dev/lib/python3.7/site-packages (from scikit-learn>=1.0.0->scikeras) (2.2.0)\n",
      "Requirement already satisfied: numpy>=1.14.6 in /Users/akhilsai/opt/anaconda3/envs/dev/lib/python3.7/site-packages (from scikit-learn>=1.0.0->scikeras) (1.21.5)\n",
      "Installing collected packages: scikeras\n",
      "Successfully installed scikeras-0.9.0\n"
     ]
    }
   ],
   "source": [
    "#Installing Yahoo Finance\n",
    "#!pip install yfinance\n",
    "#!pip install pandas_datareader\n",
    "#!pip install Ta-Lib\n",
    "#!brew install ta_lib\n",
    "#!pip install tensortrade[talib]\n",
    "!pip install scikeras"
   ]
  },
  {
   "cell_type": "code",
   "execution_count": 37,
   "id": "595710a5-2f57-4e65-9922-b4c1767d34b9",
   "metadata": {},
   "outputs": [],
   "source": [
    "import pandas as pd\n",
    "import seaborn as sns\n",
    "import joblib\n",
    "import time, datetime\n",
    "import numpy as np\n",
    "%matplotlib inline\n",
    "import matplotlib.pyplot as plt\n",
    "import alpaca_trade_api as tradeapi\n",
    "import os\n",
    "import yfinance as yf\n",
    "import pandas_datareader.data as pdr\n",
    "from sklearn.model_selection import train_test_split\n",
    "from sklearn.preprocessing import StandardScaler\n",
    "import tensorflow as tf\n",
    "from tensorflow.keras.models import Sequential\n",
    "from tensorflow.keras.layers import Dense\n",
    "from tensorflow.keras.layers import Dropout\n",
    "from tensorflow.keras.constraints import MaxNorm\n",
    "from tensorflow.keras.optimizers import SGD\n",
    "from scikeras.wrappers import KerasClassifier\n",
    "from sklearn.model_selection import cross_val_score\n",
    "from sklearn.preprocessing import LabelEncoder\n",
    "from sklearn.model_selection import StratifiedKFold\n",
    "from sklearn.pipeline import Pipeline"
   ]
  },
  {
   "cell_type": "markdown",
   "id": "e0161751-7dcb-4117-8c0d-8b5491b7441a",
   "metadata": {},
   "source": [
    "### Importing Data from Yahoo Finance."
   ]
  },
  {
   "cell_type": "code",
   "execution_count": 3,
   "id": "79fab536-5c03-482d-bbf1-a27d274b20dd",
   "metadata": {},
   "outputs": [
    {
     "name": "stdin",
     "output_type": "stream",
     "text": [
      "Please enter your desired ticker AAPL\n"
     ]
    }
   ],
   "source": [
    "#Collecting desired ticker from user\n",
    "ticker = input(\"Please enter your desired ticker\")\n",
    "start_time = datetime.datetime(1980,1,1)\n",
    "end_time = datetime.datetime.now().date()"
   ]
  },
  {
   "cell_type": "raw",
   "id": "c8ea3f01-5357-4036-8eaa-c738b58e6a00",
   "metadata": {},
   "source": [
    "datetime.datetime.strptime(\n",
    "        my_obj['dttm_utc'],\n",
    "        '%Y-%m-%s %h:%m:%s'\n",
    "    ).isoformat()"
   ]
  },
  {
   "cell_type": "code",
   "execution_count": 4,
   "id": "11b2007c-cd89-4aa4-aa7a-f6b28ed8aa18",
   "metadata": {},
   "outputs": [],
   "source": [
    "def get_data(ticker):\n",
    "    df = pdr.get_data_yahoo(ticker, start=start_time, end=end_time)         \n",
    "    return df"
   ]
  },
  {
   "cell_type": "code",
   "execution_count": 5,
   "id": "3d9e2975-9016-4854-a328-45f2bb0d3bb7",
   "metadata": {},
   "outputs": [],
   "source": [
    "def compute_ema(df):\n",
    "    df['EMA50'] = df['Close'].ewm(span=50, adjust=False).mean()\n",
    "    #Setting adjust to False to specify that recursive calculation mode is required.\n",
    "    df['EMA100'] = df['Close'].ewm(span=100, adjust=False).mean()\n",
    "    #df['EMA150'] = EMA(df['Close'].values, timeperiod=150)\n",
    "   # df['EMA200'] = EMA(df['Close'].values, timeperiod=200)\n",
    "    return df\n"
   ]
  },
  {
   "cell_type": "raw",
   "id": "8affcc1f-c0e2-4b6d-bbda-e87eaaeeb84d",
   "metadata": {},
   "source": [
    "def computeMACD(df, n_fast, n_slow, n_smooth):\n",
    "    data = df['Close']\n",
    "    fastEMA = data.ewm(span=n_fast, min_periods=n_slow).mean()\n",
    "    slowEMA = data.ewm(span=n_slow, min_periods=n_slow).mean()\n",
    "    MACD = pd.Series(fastEMA-slowEMA, name = 'MACD')\n",
    "    df = df.join(MACD)\n",
    "    return df"
   ]
  },
  {
   "cell_type": "code",
   "execution_count": null,
   "id": "beae0bfd-fec4-4524-98dc-d326ccfa47d6",
   "metadata": {},
   "outputs": [],
   "source": [
    "#Computing the MACD indicator\n",
    "#df =computeMACD(df, 12, 26, 9)\n",
    "#The values can be altered along with the model. \n",
    "#The values are normalised between -1 to 1 which is not suitable for the current model\n",
    "#As we are looking for the intersection of price and MACD."
   ]
  },
  {
   "cell_type": "markdown",
   "id": "0b8e47e9-d836-433c-9d8d-5afc8b0b8919",
   "metadata": {},
   "source": [
    "### Creating the feature variables."
   ]
  },
  {
   "cell_type": "code",
   "execution_count": 6,
   "id": "d5a18923-bfee-4dcc-9963-6c9e321709f7",
   "metadata": {},
   "outputs": [],
   "source": [
    "def calculated_features(df):\n",
    "    df['aboveEMA50'] = np.where(df['Close'] > df['EMA50'], 1, 0)\n",
    "    df['aboveEMA100'] = np.where(df['Close'] > df['EMA100'], 1, 0)\n",
    "    return df"
   ]
  },
  {
   "cell_type": "code",
   "execution_count": 7,
   "id": "3c387324-3879-4a0e-a803-c301bde51823",
   "metadata": {},
   "outputs": [],
   "source": [
    "# create a new column in the DF based on the conditions\n",
    "def defined_conditions(df):\n",
    "    # List of conditions\n",
    "    condition = [(df['aboveEMA50'] == df['aboveEMA100']) & (df['aboveEMA50'] ==1),\n",
    "                 (df['aboveEMA50'] == df['aboveEMA100']) & (df['aboveEMA50'] ==0),\n",
    "                 (df['aboveEMA50'] != df['aboveEMA100'])]\n",
    "    # List of values to return\n",
    "    choice  = [1,0,2]\n",
    "\n",
    "    df['Buy/Sell'] = np.select(condition, choice, \"ERROR\")\n",
    "    \n",
    "    return df\n",
    "#Considering it as a buy if the price is over 50 ema and 100 ema.\n",
    "#Considering it as a Sell if the price is under 50 ema and 100 ema. \n",
    "#Further analysis is required if the price is over 50 ema and under ema 100 or vice versa."
   ]
  },
  {
   "cell_type": "markdown",
   "id": "48489fda-c34e-4303-90a9-f271fad54781",
   "metadata": {},
   "source": [
    "### Creating DF for multiple stocks and Indices."
   ]
  },
  {
   "cell_type": "code",
   "execution_count": 8,
   "id": "53612069-7c3a-481c-813c-6e1d7cdb6828",
   "metadata": {},
   "outputs": [],
   "source": [
    "# Requesting the stock Data from the user. \n",
    "#tickers = ['AAPL','GOOG','AMD','AMZN']"
   ]
  },
  {
   "cell_type": "code",
   "execution_count": 21,
   "id": "1935c86e-216b-4f87-8907-aae727024971",
   "metadata": {},
   "outputs": [],
   "source": [
    "\n",
    "\n",
    "#Calling the get_data function definition. \n",
    "df = get_data(ticker)\n",
    "df = df.reset_index()\n",
    "df = df.set_index('Date')\n",
    "#Calculating EMA 50 and 100\n",
    "df = compute_ema(df)\n",
    "#Calculating if the signal is to buy or sell.\n",
    "df = calculated_features(df)\n",
    "# Rules for placind a trade.\n",
    "df = defined_conditions(df)\n"
   ]
  },
  {
   "cell_type": "markdown",
   "id": "7579e68a-41fb-4db8-ad68-5d2389eeff08",
   "metadata": {},
   "source": [
    "### Seperating Labels and Features from the Data frame and splitting the data"
   ]
  },
  {
   "cell_type": "code",
   "execution_count": 22,
   "id": "15682b16-d5c9-4e41-9ccf-eac5a5e367bf",
   "metadata": {},
   "outputs": [
    {
     "data": {
      "text/html": [
       "<div>\n",
       "<style scoped>\n",
       "    .dataframe tbody tr th:only-of-type {\n",
       "        vertical-align: middle;\n",
       "    }\n",
       "\n",
       "    .dataframe tbody tr th {\n",
       "        vertical-align: top;\n",
       "    }\n",
       "\n",
       "    .dataframe thead th {\n",
       "        text-align: right;\n",
       "    }\n",
       "</style>\n",
       "<table border=\"1\" class=\"dataframe\">\n",
       "  <thead>\n",
       "    <tr style=\"text-align: right;\">\n",
       "      <th></th>\n",
       "      <th>High</th>\n",
       "      <th>Low</th>\n",
       "      <th>Open</th>\n",
       "      <th>Close</th>\n",
       "      <th>Volume</th>\n",
       "      <th>Adj Close</th>\n",
       "      <th>EMA50</th>\n",
       "      <th>EMA100</th>\n",
       "      <th>aboveEMA50</th>\n",
       "      <th>aboveEMA100</th>\n",
       "    </tr>\n",
       "    <tr>\n",
       "      <th>Date</th>\n",
       "      <th></th>\n",
       "      <th></th>\n",
       "      <th></th>\n",
       "      <th></th>\n",
       "      <th></th>\n",
       "      <th></th>\n",
       "      <th></th>\n",
       "      <th></th>\n",
       "      <th></th>\n",
       "      <th></th>\n",
       "    </tr>\n",
       "  </thead>\n",
       "  <tbody>\n",
       "    <tr>\n",
       "      <th>1980-12-12</th>\n",
       "      <td>0.128906</td>\n",
       "      <td>0.128348</td>\n",
       "      <td>0.128348</td>\n",
       "      <td>0.128348</td>\n",
       "      <td>469033600.0</td>\n",
       "      <td>0.099874</td>\n",
       "      <td>0.128348</td>\n",
       "      <td>0.128348</td>\n",
       "      <td>0</td>\n",
       "      <td>0</td>\n",
       "    </tr>\n",
       "    <tr>\n",
       "      <th>1980-12-15</th>\n",
       "      <td>0.122210</td>\n",
       "      <td>0.121652</td>\n",
       "      <td>0.122210</td>\n",
       "      <td>0.121652</td>\n",
       "      <td>175884800.0</td>\n",
       "      <td>0.094663</td>\n",
       "      <td>0.128085</td>\n",
       "      <td>0.128215</td>\n",
       "      <td>0</td>\n",
       "      <td>0</td>\n",
       "    </tr>\n",
       "    <tr>\n",
       "      <th>1980-12-16</th>\n",
       "      <td>0.113281</td>\n",
       "      <td>0.112723</td>\n",
       "      <td>0.113281</td>\n",
       "      <td>0.112723</td>\n",
       "      <td>105728000.0</td>\n",
       "      <td>0.087715</td>\n",
       "      <td>0.127483</td>\n",
       "      <td>0.127909</td>\n",
       "      <td>0</td>\n",
       "      <td>0</td>\n",
       "    </tr>\n",
       "    <tr>\n",
       "      <th>1980-12-17</th>\n",
       "      <td>0.116071</td>\n",
       "      <td>0.115513</td>\n",
       "      <td>0.115513</td>\n",
       "      <td>0.115513</td>\n",
       "      <td>86441600.0</td>\n",
       "      <td>0.089886</td>\n",
       "      <td>0.127014</td>\n",
       "      <td>0.127663</td>\n",
       "      <td>0</td>\n",
       "      <td>0</td>\n",
       "    </tr>\n",
       "    <tr>\n",
       "      <th>1980-12-18</th>\n",
       "      <td>0.119420</td>\n",
       "      <td>0.118862</td>\n",
       "      <td>0.118862</td>\n",
       "      <td>0.118862</td>\n",
       "      <td>73449600.0</td>\n",
       "      <td>0.092492</td>\n",
       "      <td>0.126694</td>\n",
       "      <td>0.127489</td>\n",
       "      <td>0</td>\n",
       "      <td>0</td>\n",
       "    </tr>\n",
       "  </tbody>\n",
       "</table>\n",
       "</div>"
      ],
      "text/plain": [
       "                High       Low      Open     Close       Volume  Adj Close  \\\n",
       "Date                                                                         \n",
       "1980-12-12  0.128906  0.128348  0.128348  0.128348  469033600.0   0.099874   \n",
       "1980-12-15  0.122210  0.121652  0.122210  0.121652  175884800.0   0.094663   \n",
       "1980-12-16  0.113281  0.112723  0.113281  0.112723  105728000.0   0.087715   \n",
       "1980-12-17  0.116071  0.115513  0.115513  0.115513   86441600.0   0.089886   \n",
       "1980-12-18  0.119420  0.118862  0.118862  0.118862   73449600.0   0.092492   \n",
       "\n",
       "               EMA50    EMA100  aboveEMA50  aboveEMA100  \n",
       "Date                                                     \n",
       "1980-12-12  0.128348  0.128348           0            0  \n",
       "1980-12-15  0.128085  0.128215           0            0  \n",
       "1980-12-16  0.127483  0.127909           0            0  \n",
       "1980-12-17  0.127014  0.127663           0            0  \n",
       "1980-12-18  0.126694  0.127489           0            0  "
      ]
     },
     "execution_count": 22,
     "metadata": {},
     "output_type": "execute_result"
    }
   ],
   "source": [
    "X = df.drop(columns =['Buy/Sell'])\n",
    "#Reviewing features Data Frame.\n",
    "X.head(5)"
   ]
  },
  {
   "cell_type": "code",
   "execution_count": 23,
   "id": "076045b5-79b5-4c03-bb5b-cc37df3298b9",
   "metadata": {},
   "outputs": [
    {
     "data": {
      "text/plain": [
       "Date\n",
       "1980-12-12    0\n",
       "1980-12-15    0\n",
       "1980-12-16    0\n",
       "1980-12-17    0\n",
       "1980-12-18    0\n",
       "Name: Buy/Sell, dtype: object"
      ]
     },
     "execution_count": 23,
     "metadata": {},
     "output_type": "execute_result"
    }
   ],
   "source": [
    "y = df['Buy/Sell']\n",
    "#Reviewing Label.\n",
    "y.head(5)"
   ]
  },
  {
   "cell_type": "code",
   "execution_count": 26,
   "id": "d191d51a-bd62-40d3-b194-298e7b0aa72a",
   "metadata": {},
   "outputs": [],
   "source": [
    "# Split the data into training and testing datasets\n",
    "# Assign the function a random_state equal to 1\n",
    "X_train, X_test, y_train, y_test = train_test_split(X,y,random_state =1)"
   ]
  },
  {
   "cell_type": "markdown",
   "id": "5939206e-4a97-4d9a-8cb4-e87c82fe70f6",
   "metadata": {},
   "source": [
    "### Passing the Data to NN to establist a baseline accuracy."
   ]
  },
  {
   "cell_type": "markdown",
   "id": "956bf87b-27d6-42c2-b661-c995ce7dd7ce",
   "metadata": {},
   "source": [
    "#### Normalising the data using Standard Scaler"
   ]
  },
  {
   "cell_type": "code",
   "execution_count": 41,
   "id": "cec033b1-e9c7-4fd8-873b-7fc399c6bd5b",
   "metadata": {},
   "outputs": [],
   "source": [
    "# Create a StandardScaler instance\n",
    "scaler = StandardScaler()\n",
    "\n",
    "# Fit the scaler to the features training dataset\n",
    "X_scaler = scaler.fit(X_train)\n",
    "\n",
    "# Scale both the training and testing data from the features dataset\n",
    "X_train_scaled = X_scaler.transform(X_train)\n",
    "X_test_scaled = X_scaler.transform(X_test)\n",
    "\n",
    "# encoding class labels as integers\n",
    "encoder = LabelEncoder()\n",
    "encoder.fit(y)\n",
    "encoded_Y = encoder.transform(y)"
   ]
  },
  {
   "cell_type": "markdown",
   "id": "4bb69032-8a90-405f-a677-8c69f08491ae",
   "metadata": {},
   "source": [
    "#### Adding Layers to Neural Network"
   ]
  },
  {
   "cell_type": "raw",
   "id": "633ba7c0-fe44-408d-8811-d217aabf42e8",
   "metadata": {},
   "source": [
    "# Define the the number of inputs (features) to the model\n",
    "number_input_features = len(X_train.iloc[0])\n",
    "\n",
    "# Define the number of hidden nodes for the first hidden layer\n",
    "hidden_nodes_layer1 =  (number_input_features+1)//2\n",
    "\n",
    "# Define the number of hidden nodes for the second hidden layer\n",
    "hidden_nodes_layer2 = (hidden_nodes_layer1+1)//2\n",
    "\n",
    "# Create the Sequential model instance\n",
    "nn = Sequential()\n",
    "\n",
    "# Add the first hidden layer specifying the number of inputs, the number of hidden nodes, and the activation function\n",
    "nn.add(Dense(units=hidden_nodes_layer1, input_dim=number_input_features, activation=\"relu\"))\n",
    "\n",
    "\n",
    "# Add the second hidden layer specifying the number of hidden nodes and the activation function\n",
    "nn.add(Dense(units=hidden_nodes_layer2, activation=\"relu\"))\n",
    "\n",
    "\n",
    "\n",
    "# Add the output layer to the model specifying the number of output neurons and activation function\n",
    "nn.add(Dense(1, activation=\"sigmoid\"))\n",
    "\n"
   ]
  },
  {
   "cell_type": "code",
   "execution_count": null,
   "id": "74d0eb21-3db4-4f20-bc79-a45ace0a33fc",
   "metadata": {},
   "outputs": [],
   "source": [
    "def create_model():\n",
    "\t# create model\n",
    "\tmodel = Sequential()\n",
    "\tmodel.add(Dropout(0.2, input_shape=(10,)))\n",
    "\tmodel.add(Dense(10, activation='relu', kernel_constraint=MaxNorm(3)))\n",
    "\tmodel.add(Dense(5, activation='tanh', kernel_constraint=MaxNorm(3)))\n",
    "\tmodel.add(Dense(1, activation='sigmoid'))\n",
    "\t# Compile model\n",
    "\tsgd = SGD(learning_rate=0.1, momentum=0.9)\n",
    "\tmodel.compile(loss='binary_crossentropy', optimizer=sgd, metrics=['accuracy'])\n",
    "\treturn model\n",
    " \n",
    "estimators = []\n",
    "estimators.append(('standardize', StandardScaler()))\n",
    "estimators.append(('mlp', KerasClassifier(model=create_model, epochs=300, batch_size=16, verbose=0)))\n",
    "pipeline = Pipeline(estimators)\n",
    "kfold = StratifiedKFold(n_splits=10, shuffle=True)\n",
    "results = cross_val_score(pipeline, X, encoded_Y, cv=kfold)\n",
    "print(\"Visible: %.2f%% (%.2f%%)\" % (results.mean()*100, results.std()*100))"
   ]
  },
  {
   "cell_type": "code",
   "execution_count": null,
   "id": "13243262-8d18-4cb2-8e9c-ffd062f02cba",
   "metadata": {},
   "outputs": [],
   "source": []
  }
 ],
 "metadata": {
  "kernelspec": {
   "display_name": "Python 3 (ipykernel)",
   "language": "python",
   "name": "python3"
  },
  "language_info": {
   "codemirror_mode": {
    "name": "ipython",
    "version": 3
   },
   "file_extension": ".py",
   "mimetype": "text/x-python",
   "name": "python",
   "nbconvert_exporter": "python",
   "pygments_lexer": "ipython3",
   "version": "3.7.13"
  },
  "vscode": {
   "interpreter": {
    "hash": "31f2aee4e71d21fbe5cf8b01ff0e069b9275f58929596ceb00d14d90e3e16cd6"
   }
  }
 },
 "nbformat": 4,
 "nbformat_minor": 5
}
